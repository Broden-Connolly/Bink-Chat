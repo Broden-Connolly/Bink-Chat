{
 "cells": [
  {
   "cell_type": "code",
   "execution_count": 1,
   "id": "8a140f8b",
   "metadata": {
    "tags": []
   },
   "outputs": [],
   "source": [
    "# BB84 Encryption where Alice is sending a message to Bob\n",
    "import random\n",
    "from qiskit import execute, Aer, IBMQ\n",
    "from qiskit.tools.jupyter import *\n",
    "from qiskit.visualization import *\n",
    "from qiskit import *"
   ]
  },
  {
   "cell_type": "code",
   "execution_count": 2,
   "id": "3012c6e7",
   "metadata": {
    "tags": []
   },
   "outputs": [],
   "source": [
    "def key_basis_generation(num_qubits, p):\n",
    "    random.seed(p)\n",
    "    key = str('{0:008b}'.format(random.getrandbits(num_qubits)))\n",
    "    bases = str('{0:008b}'.format(random.getrandbits(num_qubits)))\n",
    "    return key, bases\n",
    "\n",
    "def gen_q(circuit, k, b):\n",
    "    for i in range(len(k)):\n",
    "        if k[i] == '0' and b[i] == '1':\n",
    "            circuit.h(i)\n",
    "        elif k[i] == '1' and b[i] == '0':\n",
    "            circuit.x(i)\n",
    "        elif k[i] == '1' and b[i] == '1':\n",
    "            circuit.x(i)\n",
    "            circuit.h(i)\n",
    "    return circuit \n",
    "\n",
    "def bob_measurement(circuit, bob):\n",
    "    for i in range(len(bob)):\n",
    "        if bob[i] == '0':\n",
    "            circuit.measure(i,i)\n",
    "        else:\n",
    "            circuit.h(i)\n",
    "            circuit.measure(i,i)\n",
    "    return circuit\n",
    "\n",
    "def bob_measures_the_qubit(circ):\n",
    "    # Use Aer's qasm_simulator\n",
    "    \n",
    "    backend_sim = Aer.get_backend('qasm_simulator')\n",
    "\n",
    "    # Execute the circuit on the qasm simulator.\n",
    "    # We've set the number of repeats of the circuit\n",
    "    # to be 1, which is the default.\n",
    "    job_sim = execute(circ, backend_sim, shots=1)\n",
    "\n",
    "    # Grab the results from the job.\n",
    "    result_sim = job_sim.result()\n",
    "    counts = result_sim.get_counts(circ)\n",
    "    output = list(counts.keys())[0] \n",
    "           \n",
    "    return output\n",
    "\n",
    "def bob_genrates_key(a_b, b_b, output):\n",
    "    key = ''\n",
    "    for i in range(len(b_b)):\n",
    "        if a_b[i] == b_b[i]:\n",
    "            key+=str(output[i])            \n",
    "    return key"
   ]
  },
  {
   "cell_type": "code",
   "execution_count": 3,
   "id": "ede9bd5f",
   "metadata": {
    "tags": []
   },
   "outputs": [],
   "source": [
    "def gen_q(circuit, k, b):\n",
    "    for i in range(len(k)):\n",
    "        if k[i] == '0' and b[i] == '1':\n",
    "            circuit.h(i)\n",
    "        elif k[i] == '1' and b[i] == '0':\n",
    "            circuit.x(i)\n",
    "        elif k[i] == '1' and b[i] == '1':\n",
    "            circuit.x(i)\n",
    "            circuit.h(i)\n",
    "    return circuit "
   ]
  },
  {
   "cell_type": "code",
   "execution_count": 4,
   "id": "9f5f7af2",
   "metadata": {
    "tags": []
   },
   "outputs": [],
   "source": [
    "def bob_measurement(circuit, bob):\n",
    "    for i in range(len(bob)):\n",
    "        if bob[i] == '0':\n",
    "            circuit.measure(i,i)\n",
    "        else:\n",
    "            circuit.h(i)\n",
    "            circuit.measure(i,i)\n",
    "    return circuit"
   ]
  },
  {
   "cell_type": "code",
   "execution_count": 5,
   "id": "ce98ecf2-aa09-40df-93d7-0202f93b5a17",
   "metadata": {
    "tags": []
   },
   "outputs": [],
   "source": [
    "def to_binary(text):\n",
    "    return \" \".join(f\"{ord(i):08b}\" for i in text)"
   ]
  },
  {
   "cell_type": "code",
   "execution_count": 6,
   "id": "f49d6e87",
   "metadata": {
    "tags": []
   },
   "outputs": [],
   "source": [
    "def bob_measures_the_qubit(circ):\n",
    "    # Use Aer's qasm_simulator\n",
    "    \n",
    "    backend_sim = Aer.get_backend('qasm_simulator')\n",
    "\n",
    "    # Execute the circuit on the qasm simulator.\n",
    "    # We've set the number of repeats of the circuit\n",
    "    # to be 1, which is the default.\n",
    "    job_sim = execute(circ, backend_sim, shots=20)\n",
    "\n",
    "    # Grab the results from the job.\n",
    "    result_sim = job_sim.result()\n",
    "    counts = result_sim.get_counts(circ)\n",
    "    output = list(counts.keys())[0] \n",
    "           \n",
    "    return output\n"
   ]
  },
  {
   "cell_type": "code",
   "execution_count": 7,
   "id": "daa2718d",
   "metadata": {
    "tags": []
   },
   "outputs": [],
   "source": [
    "def bob_genrates_key(a_b, b_b, output):\n",
    "    key = ''\n",
    "    for i in range(len(b_b)):\n",
    "        if a_b[i] == b_b[i]:\n",
    "            key+=str(output[i])            \n",
    "    return key"
   ]
  },
  {
   "cell_type": "code",
   "execution_count": 8,
   "id": "5a8259d3",
   "metadata": {
    "tags": []
   },
   "outputs": [
    {
     "name": "stdout",
     "output_type": "stream",
     "text": [
      "Alice's Key bits:  00011100\n",
      "Alice's Basis bits:  00000110\n"
     ]
    }
   ],
   "source": [
    "# Alice generates her encoded key and basis\n",
    "\n",
    "Alice_en_key, Alice_basis = key_basis_generation(8,1020)\n",
    "\n",
    "print('Alice\\'s Key bits: ', Alice_en_key)\n",
    "print('Alice\\'s Basis bits: ', Alice_basis)\n"
   ]
  },
  {
   "cell_type": "code",
   "execution_count": 9,
   "id": "fd5aaee8",
   "metadata": {
    "tags": []
   },
   "outputs": [
    {
     "name": "stdout",
     "output_type": "stream",
     "text": [
      "Bob's Key bits:  11100110\n"
     ]
    }
   ],
   "source": [
    "# Bob does generates the basis\n",
    "\n",
    "Truncate, Bob_basis = key_basis_generation(8, 200)\n",
    "\n",
    "print('Bob\\'s Key bits: ', Bob_basis)"
   ]
  },
  {
   "cell_type": "code",
   "execution_count": 10,
   "id": "ea5f72d7",
   "metadata": {
    "tags": []
   },
   "outputs": [],
   "source": [
    "circuit = QuantumCircuit(8,8)"
   ]
  },
  {
   "cell_type": "code",
   "execution_count": 11,
   "id": "89cef087",
   "metadata": {
    "tags": []
   },
   "outputs": [
    {
     "name": "stderr",
     "output_type": "stream",
     "text": [
      "/opt/conda/lib/python3.10/site-packages/qiskit/visualization/circuit/matplotlib.py:266: FutureWarning: The default matplotlib drawer scheme will be changed to \"iqp\" in a following release. To silence this warning, specify the current default explicitly as style=\"clifford\", or the new default as style=\"iqp\".\n",
      "  self._style, def_font_ratio = load_style(self._style)\n"
     ]
    },
    {
     "data": {
      "image/png": "[encoded data removed]",
      "text/plain": [
       "<Figure size 371.107x785.944 with 1 Axes>"
      ]
     },
     "execution_count": 11,
     "metadata": {},
     "output_type": "execute_result"
    }
   ],
   "source": [
    "# Alice creates quantum circuit according to her key & basis\n",
    "circuit = gen_q(circuit, Alice_en_key, Alice_basis)\n",
    "circuit.barrier()\n",
    "circuit.draw('mpl')"
   ]
  },
  {
   "cell_type": "code",
   "execution_count": 12,
   "id": "dff8a8f5",
   "metadata": {
    "tags": []
   },
   "outputs": [
    {
     "data": {
      "image/png": "[encoded data removed]",
      "text/plain": [
       "<Figure size 1040x785.944 with 1 Axes>"
      ]
     },
     "execution_count": 12,
     "metadata": {},
     "output_type": "execute_result"
    }
   ],
   "source": [
    "# Bob creates measurement setting for the qubit according to his basis\n",
    "\n",
    "circuit = bob_measurement(circuit, Bob_basis)\n",
    "\n",
    "circuit.draw('mpl')"
   ]
  },
  {
   "cell_type": "code",
   "execution_count": 13,
   "id": "e989e50d",
   "metadata": {
    "tags": []
   },
   "outputs": [
    {
     "name": "stdout",
     "output_type": "stream",
     "text": [
      "00111101\n"
     ]
    }
   ],
   "source": [
    "# Bob recieves the qubits from Alice and performs measurement \n",
    "output = bob_measures_the_qubit(circuit)\n",
    "print(output)"
   ]
  },
  {
   "cell_type": "code",
   "execution_count": 14,
   "id": "b7ab96f6",
   "metadata": {
    "tags": []
   },
   "outputs": [
    {
     "name": "stdout",
     "output_type": "stream",
     "text": [
      "11101\n"
     ]
    }
   ],
   "source": [
    "# Bob compares the output with Alice's basis and generates the key\n",
    "key = bob_genrates_key(Alice_basis, Bob_basis, output)\n",
    "print(key)"
   ]
  },
  {
   "cell_type": "code",
   "execution_count": 15,
   "id": "f4967b37-3e06-48f4-b434-7b98b8252746",
   "metadata": {
    "tags": []
   },
   "outputs": [
    {
     "name": "stdout",
     "output_type": "stream",
     "text": [
      "Encrypted bits:  01011000 01110011 01111110 01101111 01101101 01100100 01101001 01111000 01111001 00111101 01111100 01110011 01111001 00111101 01101010 01110101 01111100 01101001 01110011 01110010 01101001 00111101 01111100 01110011 01111001 00111101 01101110 01101000 01111110 01110101 \n"
     ]
    }
   ],
   "source": [
    "# Alice wants to send an encoded message to Bob\n",
    "message = \"Encrpyted and whatnot and such\"\n",
    "mess_binary = to_binary(message)\n",
    "mess_binary = mess_binary.split(' ')\n",
    "mess_binary = [i for i in mess_binary if i]\n",
    "encrypted = \"\"\n",
    "# padding key string\n",
    "key = key.rjust(len(mess_binary[0]), \"0\")\n",
    "for k in range(len(mess_binary)):\n",
    "    n = int(len(mess_binary[k])/len(key))\n",
    "    j = 0\n",
    "    for i in mess_binary[k]:\n",
    "        p = int(i)^int(key[j])\n",
    "        encrypted += str(p) \n",
    "        j+=1\n",
    "        if len(key) == j:\n",
    "            j=0\n",
    "    encrypted += ' '\n",
    "print('Encrypted bits: ', encrypted)\n"
   ]
  },
  {
   "cell_type": "code",
   "execution_count": 16,
   "id": "a77850bd-439c-47aa-86bf-bf6dbc66f9ae",
   "metadata": {
    "tags": []
   },
   "outputs": [
    {
     "data": {
      "text/plain": [
       "['01011000',\n",
       " '01110011',\n",
       " '01111110',\n",
       " '01101111',\n",
       " '01101101',\n",
       " '01100100',\n",
       " '01101001',\n",
       " '01111000',\n",
       " '01111001',\n",
       " '00111101',\n",
       " '01111100',\n",
       " '01110011',\n",
       " '01111001',\n",
       " '00111101',\n",
       " '01101010',\n",
       " '01110101',\n",
       " '01111100',\n",
       " '01101001',\n",
       " '01110011',\n",
       " '01110010',\n",
       " '01101001',\n",
       " '00111101',\n",
       " '01111100',\n",
       " '01110011',\n",
       " '01111001',\n",
       " '00111101',\n",
       " '01101110',\n",
       " '01101000',\n",
       " '01111110',\n",
       " '01110101']"
      ]
     },
     "execution_count": 16,
     "metadata": {},
     "output_type": "execute_result"
    }
   ],
   "source": [
    "c = encrypted.split(' ')\n",
    "c = [i for i in c if i]\n",
    "c"
   ]
  },
  {
   "cell_type": "code",
   "execution_count": 17,
   "id": "86adfb3a",
   "metadata": {
    "tags": []
   },
   "outputs": [
    {
     "name": "stdout",
     "output_type": "stream",
     "text": [
      "Decrypted bits:  01000101 01101110 01100011 01110010 01110000 01111001 01110100 01100101 01100100 00100000 01100001 01101110 01100100 00100000 01110111 01101000 01100001 01110100 01101110 01101111 01110100 00100000 01100001 01101110 01100100 00100000 01110011 01110101 01100011 01101000 \n"
     ]
    }
   ],
   "source": [
    "#Bob recieved an encoded message or cipher text from Alice\n",
    "decrypted = \"\"\n",
    "# padding key string\n",
    "key = key.rjust(len(c[0]), \"0\")\n",
    "for k in range(len(c)):\n",
    "    n = int(len(c[k])/len(key))\n",
    "    j = 0\n",
    "    for i in c[k]:\n",
    "        p = int(i)^int(key[j])\n",
    "        decrypted += str(p) \n",
    "        j+=1\n",
    "        if len(key) == j:\n",
    "            j=0\n",
    "    decrypted += ' '\n",
    "print('Decrypted bits: ', decrypted)"
   ]
  },
  {
   "cell_type": "code",
   "execution_count": 18,
   "id": "bbfb5394",
   "metadata": {
    "tags": []
   },
   "outputs": [
    {
     "name": "stdout",
     "output_type": "stream",
     "text": [
      "The message:  Encrpyted and whatnot and such\n"
     ]
    }
   ],
   "source": [
    "# Converting the bit string to a text\n",
    "\n",
    "binary_values = decrypted.split()\n",
    "\n",
    "ascii_string = \"\"\n",
    "\n",
    "for binary_value in binary_values:\n",
    "\n",
    "    an_integer = int(binary_value, 2)\n",
    "    ascii_character = chr(an_integer)\n",
    "    ascii_string += ascii_character\n",
    "\n",
    "print('The message: ', ascii_string)"
   ]
  },
  {
   "cell_type": "code",
   "execution_count": null,
   "id": "3ce9ddee",
   "metadata": {},
   "outputs": [],
   "source": []
  },
  {
   "cell_type": "code",
   "execution_count": null,
   "id": "4ea9c280-cf41-467a-a766-bbdc1b206acd",
   "metadata": {},
   "outputs": [],
   "source": []
  }
 ],
 "metadata": {
  "kernelspec": {
   "display_name": "Qiskit v0.45.3 (ipykernel)",
   "language": "python",
   "name": "python3"
  },
  "language_info": {
   "codemirror_mode": {
    "name": "ipython",
    "version": 3
   },
   "file_extension": ".py",
   "mimetype": "text/x-python",
   "name": "python",
   "nbconvert_exporter": "python",
   "pygments_lexer": "ipython3",
   "version": "3.10.8"
  },
  "widgets": {
   "application/vnd.jupyter.widget-state+json": {
    "state": {
     "011ccfa65b784641934a72030e8c47d0": {
      "model_module": "@jupyter-widgets/base",
      "model_module_version": "2.0.0",
      "model_name": "LayoutModel",
      "state": {
       "grid_area": "right",
       "padding": "0px 0px 0px 0px",
       "width": "70px"
      }
     },
     "090c43148fdf45f59cdcf9e2fc54fcf5": {
      "model_module": "@jupyter-widgets/controls",
      "model_module_version": "2.0.0",
      "model_name": "GridBoxModel",
      "state": {
       "children": [
        "IPY_MODEL_f0e48a69a5614dc1ac9e1995734101e9"
       ],
       "layout": "IPY_MODEL_28bc526e00d64629b58ae1f27877fb40"
      }
     },
     "1494358ecf174d3e8729c297655adabb": {
      "model_module": "@jupyter-widgets/controls",
      "model_module_version": "2.0.0",
      "model_name": "HTMLModel",
      "state": {
       "layout": "IPY_MODEL_5303f379a861437fa5b1c03a2b199438",
       "style": "IPY_MODEL_7c08274a0248401d9f43dd27b27b24e8",
       "value": "<h5>Message</h5>"
      }
     },
     "1de581363996427ba2cb64f3aadcad57": {
      "model_module": "@jupyter-widgets/base",
      "model_module_version": "2.0.0",
      "model_name": "LayoutModel",
      "state": {
       "margin": "0px 0px 10px 0px"
      }
     },
     "28bc526e00d64629b58ae1f27877fb40": {
      "model_module": "@jupyter-widgets/base",
      "model_module_version": "2.0.0",
      "model_name": "LayoutModel",
      "state": {
       "grid_template_areas": "\n                                       \". . . . right \"\n                                        ",
       "grid_template_columns": "20% 20% 20% 20% 20%",
       "width": "100%"
      }
     },
     "2da4e3665a1742668e8e23a060a21eaa": {
      "model_module": "@jupyter-widgets/controls",
      "model_module_version": "2.0.0",
      "model_name": "ButtonStyleModel",
      "state": {
       "font_family": null,
       "font_size": null,
       "font_style": null,
       "font_variant": null,
       "font_weight": null,
       "text_color": null,
       "text_decoration": null
      }
     },
     "2e52d5286745400c8fb73e96de9a512c": {
      "model_module": "@jupyter-widgets/controls",
      "model_module_version": "2.0.0",
      "model_name": "HTMLModel",
      "state": {
       "layout": "IPY_MODEL_5b56c56af4354aa6ae4d0a671c1e3204",
       "style": "IPY_MODEL_58ab5744346d41a2b91fb64cd7d8ea2b",
       "value": "<h5>Backend</h5>"
      }
     },
     "3234a0553c64462d9c862abaca4e8d8b": {
      "model_module": "@jupyter-widgets/controls",
      "model_module_version": "2.0.0",
      "model_name": "HTMLStyleModel",
      "state": {
       "description_width": "",
       "font_size": null,
       "text_color": null
      }
     },
     "407c5561dd084354aeeef2129742bd5a": {
      "model_module": "@jupyter-widgets/controls",
      "model_module_version": "2.0.0",
      "model_name": "HTMLStyleModel",
      "state": {
       "description_width": "",
       "font_size": null,
       "text_color": null
      }
     },
     "5303f379a861437fa5b1c03a2b199438": {
      "model_module": "@jupyter-widgets/base",
      "model_module_version": "2.0.0",
      "model_name": "LayoutModel",
      "state": {}
     },
     "58ab5744346d41a2b91fb64cd7d8ea2b": {
      "model_module": "@jupyter-widgets/controls",
      "model_module_version": "2.0.0",
      "model_name": "HTMLStyleModel",
      "state": {
       "description_width": "",
       "font_size": null,
       "text_color": null
      }
     },
     "5b56c56af4354aa6ae4d0a671c1e3204": {
      "model_module": "@jupyter-widgets/base",
      "model_module_version": "2.0.0",
      "model_name": "LayoutModel",
      "state": {
       "width": "145px"
      }
     },
     "695d892ed89f4e8e81c992469f6de2a7": {
      "model_module": "@jupyter-widgets/controls",
      "model_module_version": "2.0.0",
      "model_name": "HTMLStyleModel",
      "state": {
       "description_width": "",
       "font_size": null,
       "text_color": null
      }
     },
     "6d31cfe5060e4e7c98afd003738b32a8": {
      "model_module": "@jupyter-widgets/controls",
      "model_module_version": "2.0.0",
      "model_name": "HTMLModel",
      "state": {
       "layout": "IPY_MODEL_e1bfc88d2bc947fa847b30919c6de50b",
       "style": "IPY_MODEL_e3b285354d0d420792957850091cf65d",
       "value": "<h5>Queue</h5>"
      }
     },
     "735342d1938a4323b36660fd71fd1913": {
      "model_module": "@jupyter-widgets/controls",
      "model_module_version": "2.0.0",
      "model_name": "HTMLModel",
      "state": {
       "layout": "IPY_MODEL_73729a00e6194a5b8080054d5f877e16",
       "style": "IPY_MODEL_695d892ed89f4e8e81c992469f6de2a7",
       "value": "<h5>Job ID</h5>"
      }
     },
     "73729a00e6194a5b8080054d5f877e16": {
      "model_module": "@jupyter-widgets/base",
      "model_module_version": "2.0.0",
      "model_name": "LayoutModel",
      "state": {
       "width": "190px"
      }
     },
     "7692ebdb37d34ef38864aea60a69c564": {
      "model_module": "@jupyter-widgets/controls",
      "model_module_version": "2.0.0",
      "model_name": "HTMLModel",
      "state": {
       "layout": "IPY_MODEL_1de581363996427ba2cb64f3aadcad57",
       "style": "IPY_MODEL_3234a0553c64462d9c862abaca4e8d8b",
       "value": "<p style='font-family: IBM Plex Sans, Arial, Helvetica, sans-serif; font-size: 20px; font-weight: medium;'>Circuit Properties</p>"
      }
     },
     "7c08274a0248401d9f43dd27b27b24e8": {
      "model_module": "@jupyter-widgets/controls",
      "model_module_version": "2.0.0",
      "model_name": "HTMLStyleModel",
      "state": {
       "description_width": "",
       "font_size": null,
       "text_color": null
      }
     },
     "c286a911215d42a29dbd2a42e4bd738c": {
      "model_module": "@jupyter-widgets/base",
      "model_module_version": "2.0.0",
      "model_name": "LayoutModel",
      "state": {
       "width": "95px"
      }
     },
     "c40a79834ab54adb81feb7c7d56eb240": {
      "model_module": "@jupyter-widgets/controls",
      "model_module_version": "2.0.0",
      "model_name": "HBoxModel",
      "state": {
       "children": [
        "IPY_MODEL_735342d1938a4323b36660fd71fd1913",
        "IPY_MODEL_2e52d5286745400c8fb73e96de9a512c",
        "IPY_MODEL_ef69e7a4727a4cc6b998a3450e51f505",
        "IPY_MODEL_6d31cfe5060e4e7c98afd003738b32a8",
        "IPY_MODEL_1494358ecf174d3e8729c297655adabb"
       ],
       "layout": "IPY_MODEL_e17002a023c14da197133f64d77f1e19"
      }
     },
     "e17002a023c14da197133f64d77f1e19": {
      "model_module": "@jupyter-widgets/base",
      "model_module_version": "2.0.0",
      "model_name": "LayoutModel",
      "state": {
       "margin": "0px 0px 0px 37px",
       "width": "600px"
      }
     },
     "e1bfc88d2bc947fa847b30919c6de50b": {
      "model_module": "@jupyter-widgets/base",
      "model_module_version": "2.0.0",
      "model_name": "LayoutModel",
      "state": {
       "width": "70px"
      }
     },
     "e3b285354d0d420792957850091cf65d": {
      "model_module": "@jupyter-widgets/controls",
      "model_module_version": "2.0.0",
      "model_name": "HTMLStyleModel",
      "state": {
       "description_width": "",
       "font_size": null,
       "text_color": null
      }
     },
     "ef69e7a4727a4cc6b998a3450e51f505": {
      "model_module": "@jupyter-widgets/controls",
      "model_module_version": "2.0.0",
      "model_name": "HTMLModel",
      "state": {
       "layout": "IPY_MODEL_c286a911215d42a29dbd2a42e4bd738c",
       "style": "IPY_MODEL_407c5561dd084354aeeef2129742bd5a",
       "value": "<h5>Status</h5>"
      }
     },
     "f0e48a69a5614dc1ac9e1995734101e9": {
      "model_module": "@jupyter-widgets/controls",
      "model_module_version": "2.0.0",
      "model_name": "ButtonModel",
      "state": {
       "button_style": "primary",
       "description": "Clear",
       "layout": "IPY_MODEL_011ccfa65b784641934a72030e8c47d0",
       "style": "IPY_MODEL_2da4e3665a1742668e8e23a060a21eaa",
       "tooltip": null
      }
     }
    },
    "version_major": 2,
    "version_minor": 0
   }
  }
 },
 "nbformat": 4,
 "nbformat_minor": 5
}
